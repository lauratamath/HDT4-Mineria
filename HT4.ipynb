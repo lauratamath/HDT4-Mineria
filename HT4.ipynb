{
 "cells": [
  {
   "cell_type": "markdown",
   "metadata": {},
   "source": [
    "Martín Amado - 19020\n",
    "Juan Pablo Pineda - 19087\n",
    "Laura Tamath - 19365\n",
    "\n",
    "# HOJA DE TRABAJO 4"
   ]
  },
  {
   "cell_type": "code",
   "execution_count": null,
   "metadata": {},
   "outputs": [],
   "source": [
    "import pandas as pd\r\n",
    "import matplotlib.pyplot as plt\r\n",
    "import seaborn as sns\r\n",
    "import numpy as np\r\n",
    "from scipy.stats import norm\r\n",
    "from sklearn.preprocessing import StandardScaler\r\n",
    "from scipy import stats\r\n",
    "import statsmodels.stats.diagnostic as diag\r\n",
    "import sklearn.cluster as cluster\r\n",
    "from sklearn.metrics import silhouette_samples, silhouette_score, confusion_matrix\r\n",
    "from sklearn.model_selection import train_test_split\r\n",
    "from sklearn.tree import DecisionTreeClassifier\r\n",
    "from sklearn.tree import DecisionTreeRegressor\r\n",
    "from sklearn.ensemble import RandomForestClassifier\r\n",
    "from sklearn.ensemble import RandomForestRegressor\r\n",
    "from sklearn import tree\r\n",
    "from sklearn import metrics\r\n",
    "from sklearn import datasets\r\n",
    "from sklearn.model_selection import cross_val_predict\r\n",
    "import sklearn.preprocessing\r\n",
    "import random\r\n",
    "import graphviz\r\n",
    "from sklearn.linear_model import LinearRegression\r\n",
    "from yellowbrick.regressor import ResidualsPlot\r\n",
    "from sklearn.cluster import Birch\r\n",
    "import matplotlib.cm as cm\r\n",
    "from scipy.stats import normaltest\r\n",
    "np.warnings.filterwarnings('ignore', category=np.VisibleDeprecationWarning) "
   ]
  },
  {
   "cell_type": "code",
   "execution_count": null,
   "metadata": {},
   "outputs": [],
   "source": [
    "data = pd.read_csv('./HDT3/train.csv', encoding = \"latin1\")\n",
    "file = open('./HDT3/cuantitativas.txt', 'r')\n",
    "quant= file.read().splitlines()\n",
    "file = open('./HDT3/cualitativas.txt', 'r')\n",
    "quali= file.read().splitlines()"
   ]
  },
  {
   "cell_type": "code",
   "execution_count": null,
   "metadata": {},
   "outputs": [],
   "source": [
    "#Variables cuantitativas\n",
    "data[quant].describe()"
   ]
  },
  {
   "cell_type": "code",
   "execution_count": null,
   "metadata": {},
   "outputs": [],
   "source": [
    "for var in quant:\n",
    "    localData = data[var].dropna(how='all', axis=0)\n",
    "  \n",
    "    sns.displot(localData, kde=True)\n",
    "\n",
    "    print( var, ':', ' Kurtosis:', stats.kurtosis(localData), 'Asimetría:', stats.skew(localData), '\\n')"
   ]
  },
  {
   "cell_type": "code",
   "execution_count": null,
   "metadata": {},
   "outputs": [],
   "source": [
    "#Variables cualitativas\n",
    "for var in quali:\n",
    "  data[var].value_counts().plot(kind='barh')\n",
    "  plt.figure(figsize=(20,5))\n",
    "  print(var)\n",
    "  plt.show()"
   ]
  },
  {
   "cell_type": "code",
   "execution_count": null,
   "metadata": {},
   "outputs": [],
   "source": [
    "# Variables de interes\n",
    "print('\\033[36m' + 'Kurtosis: %f' % data['SalePrice'].kurt())\n",
    "print('\\033[36m' + 'Asimetría: %f' % data['SalePrice'].skew())\n",
    "data['SalePrice'].describe()"
   ]
  },
  {
   "cell_type": "code",
   "execution_count": null,
   "metadata": {},
   "outputs": [],
   "source": [
    "stat,p = stats.shapiro(data[[\"SalePrice\"]].dropna())\n",
    "print('Prueba de Kolmogorov-Smirnov:\\np=%f\\n'% p)\n",
    "ks_statistic, p_value = diag.lilliefors(data[[\"SalePrice\"]].dropna())\n",
    "print('Prueba de Lilliefors:\\nks=%f\\np=%f'%(ks_statistic,p_value))"
   ]
  },
  {
   "cell_type": "code",
   "execution_count": null,
   "metadata": {},
   "outputs": [],
   "source": [
    "sns.displot(data['SalePrice'], kde=True)"
   ]
  },
  {
   "cell_type": "markdown",
   "metadata": {},
   "source": [
    "### 1. Use los mismos conjuntos de entrenamiento y prueba que usó para los árboles de decisión en la hoja de trabajo anterior. "
   ]
  },
  {
   "cell_type": "code",
   "execution_count": null,
   "metadata": {},
   "outputs": [],
   "source": [
    "data.fillna(0)\r\n",
    "minPrice = data['SalePrice'].min()\r\n",
    "maxPrice = data['SalePrice'].max()\r\n",
    "divs = (maxPrice - minPrice) / 3\r\n",
    "data['priceRange'] = data['LotArea']\r\n",
    "\r\n",
    "data['priceRange'][data['SalePrice'] < minPrice + divs] = 'eco'\r\n",
    "data['priceRange'][data['SalePrice'] >= minPrice + divs] = 'mid'\r\n",
    "data['priceRange'][data['SalePrice'] >= minPrice + divs * 2] = 'expensive'"
   ]
  },
  {
   "cell_type": "code",
   "execution_count": null,
   "metadata": {},
   "outputs": [],
   "source": [
    "PriceRange = data.pop('priceRange')\r\n",
    "Y = data['SalePrice']\r\n",
    "X = data.drop(['SalePrice'], axis=1)\r\n",
    "X_train, X_test, y_train, y_test = train_test_split(X, Y, test_size=0.3, train_size=0.7)"
   ]
  },
  {
   "cell_type": "markdown",
   "metadata": {},
   "source": [
    "### 2. Elabore  un  modelo  de  regresión  lineal  utilizando  el  conjunto  de  entrenamiento  que  hizo para  predecir  los  precios  de  las  casas\n",
    "-Martín"
   ]
  },
  {
   "cell_type": "code",
   "execution_count": null,
   "metadata": {},
   "outputs": [],
   "source": [
    "fig = plt.figure()\r\n",
    "plt.scatter(data['LotArea'], data['SalePrice'])\r\n",
    "plt.xlabel(\"Sale Price\")\r\n",
    "plt.ylabel(\"Lot Area\")\r\n",
    "plt.title(\"Sale Price vs Lot Area\")"
   ]
  },
  {
   "cell_type": "code",
   "execution_count": null,
   "metadata": {},
   "outputs": [],
   "source": [
    "s_prize = y_train.values.reshape(-1, 1)\r\n",
    "s_prize_t = y_test.values.reshape(-1, 1)\r\n",
    "l_area = X_train['LotArea'].values.reshape(-1, 1)\r\n",
    "l_area_t = X_test['LotArea'].values.reshape(-1, 1)\r\n",
    "lm = LinearRegression()\r\n",
    "lm.fit(s_prize, l_area)\r\n",
    "s_prize_pred = lm.predict(l_area_t)"
   ]
  },
  {
   "cell_type": "code",
   "execution_count": null,
   "metadata": {},
   "outputs": [],
   "source": [
    "m = lm.coef_[0][0]\r\n",
    "c = lm.intercept_[0]\r\n",
    "\r\n",
    "label = r'$s_prize = %0.4f*l_area %+0.4f$'%(m, c)"
   ]
  },
  {
   "cell_type": "code",
   "execution_count": null,
   "metadata": {},
   "outputs": [],
   "source": [
    "fig = plt.figure()\r\n",
    "plt.scatter(l_area_t, s_prize_t)\r\n",
    "plt.plot(s_prize_pred, l_area_t, color=\"red\")\r\n",
    "plt.ylabel(\"Sale Price\")\r\n",
    "plt.xlabel(\"Lot Area\")\r\n",
    "plt.title(\"Test Set Sale Price vs Lot Area\")"
   ]
  },
  {
   "cell_type": "code",
   "execution_count": null,
   "metadata": {},
   "outputs": [],
   "source": [
    "print(\"Mean Squared Error: %.2f\"%metrics.mean_squared_error(s_prize_t,s_prize_pred))\r\n",
    "print(\"R squared: %.2f\"%metrics.r2_score(s_prize_t,s_prize_pred))"
   ]
  },
  {
   "cell_type": "markdown",
   "metadata": {},
   "source": [
    "### 3.1 Determine si hay multicolinealidad en las variables, y cuáles son las que aportan  al  modelo,  por  su  valor  de  significación.  \n",
    "-Pineda"
   ]
  },
  {
   "cell_type": "markdown",
   "metadata": {},
   "source": [
    "### 3.2 Haga  un  análisis  de  correlación  de  las variables del modelo y especifique si el modelo se adapta bien a los datos. \n",
    "-Laura"
   ]
  },
  {
   "cell_type": "markdown",
   "metadata": {},
   "source": [
    "### 3.3* En  caso  de  existir  sobreajuste,  haga  otro  modelo  que  lo corrija. \n",
    "-Laura"
   ]
  },
  {
   "cell_type": "markdown",
   "metadata": {},
   "source": [
    "### 4. Determine la calidad del modelo realizando un análisis de los residuos. \n",
    "-Martín"
   ]
  },
  {
   "cell_type": "code",
   "execution_count": null,
   "metadata": {},
   "outputs": [],
   "source": [
    "residuales = s_prize_t - s_prize_pred\r\n",
    "len(residuales)"
   ]
  },
  {
   "cell_type": "code",
   "execution_count": null,
   "metadata": {},
   "outputs": [],
   "source": [
    "plt.plot(l_area_t, residuales, 'o')\r\n",
    "plt.title('Grafico de residuales')\r\n",
    "plt.xlabel(\"Lot Area\")\r\n",
    "plt.ylabel(\"residuales\")"
   ]
  },
  {
   "cell_type": "markdown",
   "metadata": {},
   "source": [
    "El grafico muestra que los residuales estan organizados dentro del conjunto de datos, y no parece ser aleatorio"
   ]
  },
  {
   "cell_type": "code",
   "execution_count": null,
   "metadata": {},
   "outputs": [],
   "source": [
    "sns.distplot(residuales)\r\n",
    "plt.title(\"residuales\")"
   ]
  },
  {
   "cell_type": "code",
   "execution_count": null,
   "metadata": {},
   "outputs": [],
   "source": [
    "plt.boxplot(residuales)"
   ]
  },
  {
   "cell_type": "code",
   "execution_count": null,
   "metadata": {},
   "outputs": [],
   "source": [
    "normaltest(residuales)"
   ]
  },
  {
   "cell_type": "markdown",
   "metadata": {},
   "source": [
    "Los residuos siguen una distribucion normal, pero el valor de p es menor a 0.05"
   ]
  },
  {
   "cell_type": "code",
   "execution_count": null,
   "metadata": {},
   "outputs": [],
   "source": [
    "model = sklearn.linear_model.Ridge()\r\n",
    "visualizer = ResidualsPlot(model)\r\n",
    "visualizer.fit(s_prize, l_area)\r\n",
    "visualizer.score(s_prize_t, l_area_t)"
   ]
  },
  {
   "cell_type": "markdown",
   "metadata": {},
   "source": [
    "### 5. Utilice  el  modelo  con  el  conjunto  de  prueba  y  determine  la  eficiencia  del  algoritmo  para predecir el precio de las casas\n",
    "-Laura"
   ]
  },
  {
   "cell_type": "markdown",
   "metadata": {},
   "source": [
    "### 6. Discuta sobre la efectividad del modelo. Haga los gráficos que crea que le pueden ayudar en la discusión. \n",
    "-Pineda"
   ]
  },
  {
   "cell_type": "markdown",
   "metadata": {},
   "source": [
    "### 7. Compare la eficiencia del algoritmo con el resultado obtenido con el árbol de decisión (el de regresión). ¿Cuál es mejor para predecir? ¿Cuál se demoró más en procesar? \n",
    "-Martín"
   ]
  },
  {
   "cell_type": "markdown",
   "metadata": {},
   "source": [
    "A pesar de un error en el valor del r2, el modelo de regresion lineal parece tener una mejor prediccion. De la misma manera, este toma una menor cantidad de tiempo de proceso en general"
   ]
  },
  {
   "cell_type": "markdown",
   "metadata": {},
   "source": []
  }
 ],
 "metadata": {
  "kernelspec": {
   "display_name": "Python 3.9.10 64-bit",
   "metadata": {
    "interpreter": {
     "hash": "1b1e0c645787a43952d50d550edd6247296232eaf059a1af998729e9d11faa38"
    }
   },
   "name": "python3"
  },
  "language_info": {
   "codemirror_mode": {
    "name": "ipython",
    "version": 3
   },
   "file_extension": ".py",
   "mimetype": "text/x-python",
   "name": "python",
   "nbconvert_exporter": "python",
   "pygments_lexer": "ipython3",
   "version": "3.9.10"
  },
  "orig_nbformat": 2
 },
 "nbformat": 4,
 "nbformat_minor": 2
}